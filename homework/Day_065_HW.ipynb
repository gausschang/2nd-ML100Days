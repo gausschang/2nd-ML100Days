{
 "cells": [
  {
   "cell_type": "markdown",
   "metadata": {},
   "source": [
    "# 作業\n",
    "* 選擇分類資料集(右下)-螺旋雙臂 - 交錯六群，限定特徵只能使用前兩個，隱藏層 2 層滿 (共 8 * 2 =16 個神經元)，  \n",
    "  遞迴次數只允許跑到500次，但可以自由調整 批次大小、學習速率、啟動函數、正規化選項與參數\n",
    "* 在上述限制下，挑戰看看測試誤差 (Test Loss) 最低能到多少? 請回答你的上述幾項參數與 Test Loss 數"
   ]
  },
  {
   "cell_type": "markdown",
   "metadata": {
    "collapsed": true
   },
   "source": [
    "1.learn rate:0.3, 啟動函數:tanh, 正規化:無, test loss:0.055\n",
    "2.learn rate:0.3, 啟動函數:tanh, 正規化:L1, test loss:0.085\n",
    "3.learn rate:0.3, 啟動函數:tanh, 正規化L2, test loss:0.231\n",
    "\n",
    "4.learn rate:0.1, 啟動函數:tanh, 正規化L1, test loss:0.130\n",
    "5.learn rate:0.1, 啟動函數:tanh, 正規化L2, test loss:0.278\n",
    "6.learn rate:0.01, 啟動函數:tanh, 正規化L1, test loss:0.166\n",
    "7.learn rate:0.01, 啟動函數:tanh, 正規化L2, test loss:0.037\n",
    "8.learn rate:0.001, 啟動函數:tanh, 正規化L1, test loss:0.494\n",
    "9.learn rate:0.001, 啟動函數:tanh, 正規化L2, test loss:0.452\n",
    "10.learn rate:0.03, 啟動函數:tanh, 正規化:L1, 正規化參數:0.001, test loss:0.033\n",
    "11.learn rate:0.03, 啟動函數:tanh, 正規化:L2, 正規化參數:0.001, test loss:0.019\n",
    "12.learn rate:0.01, 啟動函數:tanh, 正規化:L1, 正規化參數:0.001, test loss:0.046\n",
    "13.learn rate:0.01, 啟動函數:tanh, 正規化:L2, 正規化參數:0.001, test loss:0.066\n",
    "\n",
    "啟動函數：sigmoid\n",
    "1.learn rate:0.01, 啟動函數:sigmoid, 正規化L1, test loss:0.311\n",
    "2.learn rate:0.01, 啟動函數:sigmoid, 正規化L2, test loss:0.248\n"
   ]
  },
  {
   "cell_type": "markdown",
   "metadata": {},
   "source": [
    "以啟動函數tanh, \n",
    "11.learn rate:0.03, 啟動函數:tanh, 正規化:L2, 正規化參數:0.001, test loss:0.019\n",
    "最佳"
   ]
  },
  {
   "cell_type": "markdown",
   "metadata": {
    "collapsed": true
   },
   "source": []
  }
 ],
 "metadata": {
  "kernelspec": {
   "display_name": "Python 3",
   "language": "python",
   "name": "python3"
  },
  "language_info": {
   "codemirror_mode": {
    "name": "ipython",
    "version": 3
   },
   "file_extension": ".py",
   "mimetype": "text/x-python",
   "name": "python",
   "nbconvert_exporter": "python",
   "pygments_lexer": "ipython3",
   "version": "3.6.8"
  }
 },
 "nbformat": 4,
 "nbformat_minor": 2
}
