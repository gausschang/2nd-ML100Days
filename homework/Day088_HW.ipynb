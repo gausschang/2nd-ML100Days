{
 "cells": [
  {
   "cell_type": "markdown",
   "metadata": {},
   "source": [
    "## Work\n",
    "1. 請嘗試寫一個 callback 用來記錄各類別在訓練過程中，對驗證集的 True Positive 與 True Negative"
   ]
  },
  {
   "cell_type": "code",
   "execution_count": 1,
   "metadata": {},
   "outputs": [
    {
     "name": "stderr",
     "output_type": "stream",
     "text": [
      "Using TensorFlow backend.\n"
     ]
    }
   ],
   "source": [
    "import os\n",
    "import keras\n",
    "\n",
    "# Disable GPU\n",
    "os.environ[\"CUDA_VISIBLE_DEVICES\"] = \"\""
   ]
  },
  {
   "cell_type": "code",
   "execution_count": 2,
   "metadata": {},
   "outputs": [],
   "source": [
    "train, test = keras.datasets.cifar10.load_data()"
   ]
  },
  {
   "cell_type": "code",
   "execution_count": 3,
   "metadata": {},
   "outputs": [],
   "source": [
    "## 資料前處理\n",
    "def preproc_x(x, flatten=True):\n",
    "    x = x / 255.\n",
    "    if flatten:\n",
    "        x = x.reshape((len(x), -1))\n",
    "    return x\n",
    "\n",
    "def preproc_y(y, num_classes=10):\n",
    "    if y.shape[-1] == 1:\n",
    "        y = keras.utils.to_categorical(y, num_classes)\n",
    "    return y    "
   ]
  },
  {
   "cell_type": "code",
   "execution_count": 4,
   "metadata": {},
   "outputs": [],
   "source": [
    "x_train, y_train = train\n",
    "x_test, y_test = test\n",
    "\n",
    "# Preproc the inputs\n",
    "x_train = preproc_x(x_train)\n",
    "x_test = preproc_x(x_test)\n",
    "\n",
    "# Preprc the outputs\n",
    "y_train = preproc_y(y_train)\n",
    "y_test = preproc_y(y_test)"
   ]
  },
  {
   "cell_type": "code",
   "execution_count": 5,
   "metadata": {},
   "outputs": [],
   "source": [
    "from keras.layers import BatchNormalization\n",
    "def build_mlp(input_shape, output_units=10, num_neurons=[256, 256, 256]):\n",
    "    input_layer = keras.layers.Input(input_shape)\n",
    "    \n",
    "    for i, n_units in enumerate(num_neurons):\n",
    "        if i == 0:\n",
    "            x = keras.layers.Dense(units=n_units, \n",
    "                                   activation=\"relu\", \n",
    "                                   name=\"hidden_layer\"+str(i+1))(input_layer)\n",
    "            x = BatchNormalization()(x)\n",
    "        else:\n",
    "            x = keras.layers.Dense(units=n_units, \n",
    "                                   activation=\"relu\", \n",
    "                                   name=\"hidden_layer\"+str(i+1))(x)\n",
    "            x = BatchNormalization()(x)\n",
    "    \n",
    "    out = keras.layers.Dense(units=output_units, activation=\"softmax\", name=\"output\")(x)\n",
    "    \n",
    "    model = keras.models.Model(inputs=[input_layer], outputs=[out])\n",
    "    return model"
   ]
  },
  {
   "cell_type": "code",
   "execution_count": 6,
   "metadata": {},
   "outputs": [],
   "source": [
    "## 超參數設定\n",
    "LEARNING_RATE = 1e-3\n",
    "EPOCHS = 25\n",
    "BATCH_SIZE = 1024\n",
    "MOMENTUM = 0.95"
   ]
  },
  {
   "cell_type": "code",
   "execution_count": 11,
   "metadata": {},
   "outputs": [],
   "source": [
    "# 載入 Callbacks\n",
    "from keras.callbacks import Callback\n",
    "from sklearn.metrics import confusion_matrix\n",
    "# Record_fp_tp\n",
    "class Record_tp_tn(Callback):\n",
    "    def on_train_begin(self, epoch, logs = {}):\n",
    "        logs = logs or {}\n",
    "        record_items = [\"val_tp\", \"val_tn\"]\n",
    "        for i in record_items:\n",
    "            if i not in self.params['metrics']:\n",
    "                self.params['metrics'].append(i)\n",
    "    \n",
    "    def on_epoch_end(self, epoch, logs = {}, thres=0.5):\n",
    "        logs = logs or {}\n",
    "        y_true = self.validation_data[1].argmax(axis = 1)\n",
    "        y_pred = self.model.predict(self.validation_data[0])\n",
    "        y_pred = (y_pred[:, 1] >= thres) * 1\n",
    "        tptn = confusion_matrix(y_true,y_pred)\n",
    "        logs[\"val_tp\"] = tptn[0][0]\n",
    "        logs[\"val_tn\"] = tptn[1][1]\n",
    "        \n",
    "rec_tptn = Record_tp_tn()"
   ]
  },
  {
   "cell_type": "code",
   "execution_count": 12,
   "metadata": {
    "scrolled": true
   },
   "outputs": [
    {
     "name": "stdout",
     "output_type": "stream",
     "text": [
      "_________________________________________________________________\n",
      "Layer (type)                 Output Shape              Param #   \n",
      "=================================================================\n",
      "input_3 (InputLayer)         (None, 3072)              0         \n",
      "_________________________________________________________________\n",
      "hidden_layer1 (Dense)        (None, 256)               786688    \n",
      "_________________________________________________________________\n",
      "batch_normalization_7 (Batch (None, 256)               1024      \n",
      "_________________________________________________________________\n",
      "hidden_layer2 (Dense)        (None, 256)               65792     \n",
      "_________________________________________________________________\n",
      "batch_normalization_8 (Batch (None, 256)               1024      \n",
      "_________________________________________________________________\n",
      "hidden_layer3 (Dense)        (None, 256)               65792     \n",
      "_________________________________________________________________\n",
      "batch_normalization_9 (Batch (None, 256)               1024      \n",
      "_________________________________________________________________\n",
      "output (Dense)               (None, 10)                2570      \n",
      "=================================================================\n",
      "Total params: 923,914\n",
      "Trainable params: 922,378\n",
      "Non-trainable params: 1,536\n",
      "_________________________________________________________________\n",
      "Train on 50000 samples, validate on 10000 samples\n",
      "Epoch 1/25\n",
      "50000/50000 [==============================] - 6s 128us/step - loss: 2.2538 - acc: 0.2606 - val_loss: 2.2270 - val_acc: 0.2922\n",
      "Epoch 2/25\n",
      "50000/50000 [==============================] - 5s 93us/step - loss: 1.7675 - acc: 0.3830 - val_loss: 1.8321 - val_acc: 0.3799\n",
      "Epoch 3/25\n",
      "50000/50000 [==============================] - 5s 92us/step - loss: 1.6392 - acc: 0.4267 - val_loss: 1.7055 - val_acc: 0.4124\n",
      "Epoch 4/25\n",
      "50000/50000 [==============================] - 5s 94us/step - loss: 1.5662 - acc: 0.4509 - val_loss: 1.6502 - val_acc: 0.4271\n",
      "Epoch 5/25\n",
      "50000/50000 [==============================] - 5s 92us/step - loss: 1.5122 - acc: 0.4711 - val_loss: 1.6063 - val_acc: 0.4379\n",
      "Epoch 6/25\n",
      "50000/50000 [==============================] - 5s 92us/step - loss: 1.4693 - acc: 0.4868 - val_loss: 1.5785 - val_acc: 0.4482\n",
      "Epoch 7/25\n",
      "50000/50000 [==============================] - 5s 93us/step - loss: 1.4307 - acc: 0.4990 - val_loss: 1.5566 - val_acc: 0.4526\n",
      "Epoch 8/25\n",
      "50000/50000 [==============================] - 5s 94us/step - loss: 1.3990 - acc: 0.5103 - val_loss: 1.5389 - val_acc: 0.4639\n",
      "Epoch 9/25\n",
      "50000/50000 [==============================] - 5s 94us/step - loss: 1.3693 - acc: 0.5222 - val_loss: 1.5326 - val_acc: 0.4634\n",
      "Epoch 10/25\n",
      "50000/50000 [==============================] - 5s 95us/step - loss: 1.3423 - acc: 0.5339 - val_loss: 1.5137 - val_acc: 0.4649\n",
      "Epoch 11/25\n",
      "50000/50000 [==============================] - 5s 95us/step - loss: 1.3171 - acc: 0.5410 - val_loss: 1.4943 - val_acc: 0.4714\n",
      "Epoch 12/25\n",
      "50000/50000 [==============================] - 5s 94us/step - loss: 1.2924 - acc: 0.5507 - val_loss: 1.4826 - val_acc: 0.4727\n",
      "Epoch 13/25\n",
      "50000/50000 [==============================] - 5s 96us/step - loss: 1.2709 - acc: 0.5583 - val_loss: 1.4771 - val_acc: 0.4780\n",
      "Epoch 14/25\n",
      "50000/50000 [==============================] - 5s 98us/step - loss: 1.2481 - acc: 0.5663 - val_loss: 1.4668 - val_acc: 0.4790\n",
      "Epoch 15/25\n",
      "50000/50000 [==============================] - 5s 100us/step - loss: 1.2276 - acc: 0.5749 - val_loss: 1.4606 - val_acc: 0.4828\n",
      "Epoch 16/25\n",
      "50000/50000 [==============================] - 5s 100us/step - loss: 1.2080 - acc: 0.5821 - val_loss: 1.4605 - val_acc: 0.4824\n",
      "Epoch 17/25\n",
      "50000/50000 [==============================] - 5s 99us/step - loss: 1.1876 - acc: 0.5889 - val_loss: 1.4520 - val_acc: 0.4826\n",
      "Epoch 18/25\n",
      "50000/50000 [==============================] - 5s 101us/step - loss: 1.1703 - acc: 0.5971 - val_loss: 1.4680 - val_acc: 0.4840\n",
      "Epoch 19/25\n",
      "50000/50000 [==============================] - 5s 101us/step - loss: 1.1528 - acc: 0.6021 - val_loss: 1.4664 - val_acc: 0.4817\n",
      "Epoch 20/25\n",
      "50000/50000 [==============================] - 5s 102us/step - loss: 1.1332 - acc: 0.6084 - val_loss: 1.4619 - val_acc: 0.4848\n",
      "Epoch 21/25\n",
      "50000/50000 [==============================] - 5s 104us/step - loss: 1.1152 - acc: 0.6172 - val_loss: 1.4567 - val_acc: 0.4839\n",
      "Epoch 22/25\n",
      "50000/50000 [==============================] - 5s 103us/step - loss: 1.0980 - acc: 0.6219 - val_loss: 1.4503 - val_acc: 0.4863\n",
      "Epoch 23/25\n",
      "50000/50000 [==============================] - 5s 103us/step - loss: 1.0823 - acc: 0.6277 - val_loss: 1.4419 - val_acc: 0.4949\n",
      "Epoch 24/25\n",
      "50000/50000 [==============================] - 5s 101us/step - loss: 1.0641 - acc: 0.6358 - val_loss: 1.4351 - val_acc: 0.4939\n",
      "Epoch 25/25\n",
      "50000/50000 [==============================] - 5s 98us/step - loss: 1.0482 - acc: 0.6402 - val_loss: 1.4380 - val_acc: 0.4949\n"
     ]
    }
   ],
   "source": [
    "model = build_mlp(input_shape=x_train.shape[1:])\n",
    "model.summary()\n",
    "optimizer = keras.optimizers.SGD(lr=LEARNING_RATE, nesterov=True, momentum=MOMENTUM)\n",
    "model.compile(loss=\"categorical_crossentropy\", metrics=[\"accuracy\"], optimizer=optimizer)\n",
    "\n",
    "\"\"\"Code Here\n",
    "將 callbacks 放入模型訓練流程中\n",
    "\"\"\"\n",
    "model.fit(x_train, y_train, \n",
    "          epochs=EPOCHS, \n",
    "          batch_size=BATCH_SIZE, \n",
    "          validation_data=(x_test, y_test), \n",
    "          shuffle=True,\n",
    "          callbacks=[rec_tptn]\n",
    "         )\n",
    "\n",
    "# Collect results\n",
    "train_loss = model.history.history[\"loss\"]\n",
    "valid_loss = model.history.history[\"val_loss\"]\n",
    "train_acc = model.history.history[\"acc\"]\n",
    "valid_acc = model.history.history[\"val_acc\"]\n",
    "\n",
    "\"\"\"Code Here\n",
    "將 tp/tn 從訓練完的模型中取出\n",
    "\"\"\"\n",
    "valid_tp = model.history.history['val_tp']\n",
    "valid_tn = model.history.history['val_tn']"
   ]
  },
  {
   "cell_type": "code",
   "execution_count": 13,
   "metadata": {},
   "outputs": [
    {
     "data": {
      "image/png": "[encoded data removed]",
      "text/plain": [
       "<Figure size 432x288 with 1 Axes>"
      ]
     },
     "metadata": {
      "needs_background": "light"
     },
     "output_type": "display_data"
    },
    {
     "data": {
      "image/png": "[encoded data removed]",
      "text/plain": [
       "<Figure size 432x288 with 1 Axes>"
      ]
     },
     "metadata": {
      "needs_background": "light"
     },
     "output_type": "display_data"
    },
    {
     "data": {
      "image/png": "[encoded data removed]",
      "text/plain": [
       "<Figure size 432x288 with 1 Axes>"
      ]
     },
     "metadata": {
      "needs_background": "light"
     },
     "output_type": "display_data"
    }
   ],
   "source": [
    "import matplotlib.pyplot as plt\n",
    "%matplotlib inline\n",
    "\n",
    "plt.plot(range(len(train_loss)), train_loss, label=\"train loss\")\n",
    "plt.plot(range(len(valid_loss)), valid_loss, label=\"valid loss\")\n",
    "plt.legend()\n",
    "plt.title(\"Loss\")\n",
    "plt.show()\n",
    "\n",
    "plt.plot(range(len(train_acc)), train_acc, label=\"train accuracy\")\n",
    "plt.plot(range(len(valid_acc)), valid_acc, label=\"valid accuracy\")\n",
    "plt.legend()\n",
    "plt.title(\"Accuracy\")\n",
    "plt.show()\n",
    "\n",
    "plt.plot(range(len(valid_tp)), valid_tp, label=\"valid tp\", color=\"navy\")\n",
    "plt.plot(range(len(valid_tn)), valid_tn, label=\"valid tn\", color=\"red\")\n",
    "plt.legend()\n",
    "plt.title(\"True positives and True Negatives\")\n",
    "plt.show()\n"
   ]
  }
 ],
 "metadata": {
  "kernelspec": {
   "display_name": "Python 3",
   "language": "python",
   "name": "python3"
  },
  "language_info": {
   "codemirror_mode": {
    "name": "ipython",
    "version": 3
   },
   "file_extension": ".py",
   "mimetype": "text/x-python",
   "name": "python",
   "nbconvert_exporter": "python",
   "pygments_lexer": "ipython3",
   "version": "3.6.8"
  }
 },
 "nbformat": 4,
 "nbformat_minor": 2
}
