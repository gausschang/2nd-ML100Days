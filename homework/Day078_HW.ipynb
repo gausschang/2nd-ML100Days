{
 "cells": [
  {
   "cell_type": "markdown",
   "metadata": {},
   "source": [
    "## Work\n",
    "1. 請嘗試將 preproc_x 替換成以每筆資料的 min/max 進行標準化至 -1 ~ 1 間，再進行訓練\n",
    "2. 請嘗試將 mlp 疊更深 (e.g 5~10 層)，進行訓練後觀察 learning curve 的走勢\n",
    "3. (optional) 請改用 GPU 進行訓練 (如果你有 GPU 的話)，比較使用 CPU 與 GPU 的訓練速度"
   ]
  },
  {
   "cell_type": "code",
   "execution_count": 1,
   "metadata": {},
   "outputs": [],
   "source": [
    "## \n",
    "\"\"\"\n",
    "Your code here (optional)\n",
    "確認硬體資源\n",
    "\"\"\"\n"
   ]
  },
  {
   "cell_type": "code",
   "execution_count": 1,
   "metadata": {},
   "outputs": [
    {
     "name": "stderr",
     "output_type": "stream",
     "text": [
      "Using TensorFlow backend.\n"
     ]
    }
   ],
   "source": [
    "import os\n",
    "import keras\n",
    "\n",
    "# 請嘗試設定 GPU：os.environ\n"
   ]
  },
  {
   "cell_type": "code",
   "execution_count": 2,
   "metadata": {},
   "outputs": [],
   "source": [
    "train, test = keras.datasets.cifar10.load_data()"
   ]
  },
  {
   "cell_type": "code",
   "execution_count": 5,
   "metadata": {},
   "outputs": [],
   "source": [
    "## 資料前處理\n",
    "\"\"\"\n",
    "Your code here\n",
    "\"\"\"\n",
    "def preproc_x(x, flatten=True):\n",
    "    length = x.max() - x.min()\n",
    "    x = x / length\n",
    "    if flatten:\n",
    "        x = x.reshape((len(x), -1))\n",
    "    return x\n",
    "\n",
    "def preproc_y(y, num_classes=10):\n",
    "    if y.shape[-1] == 1:\n",
    "        y = keras.utils.to_categorical(y, num_classes)\n",
    "    return y    "
   ]
  },
  {
   "cell_type": "code",
   "execution_count": 6,
   "metadata": {},
   "outputs": [],
   "source": [
    "x_train, y_train = train\n",
    "x_test, y_test = test\n",
    "\n",
    "# Preproc the inputs\n",
    "x_train = preproc_x(x_train)\n",
    "x_test = preproc_x(x_test)\n",
    "\n",
    "# Preprc the outputs\n",
    "y_train = preproc_y(y_train)\n",
    "y_test = preproc_y(y_test)"
   ]
  },
  {
   "cell_type": "code",
   "execution_count": 7,
   "metadata": {},
   "outputs": [
    {
     "name": "stdout",
     "output_type": "stream",
     "text": [
      "WARNING:tensorflow:From C:\\Users\\user\\Anaconda3\\envs\\testAI\\lib\\site-packages\\tensorflow\\python\\framework\\op_def_library.py:263: colocate_with (from tensorflow.python.framework.ops) is deprecated and will be removed in a future version.\n",
      "Instructions for updating:\n",
      "Colocations handled automatically by placer.\n",
      "_________________________________________________________________\n",
      "Layer (type)                 Output Shape              Param #   \n",
      "=================================================================\n",
      "input_1 (InputLayer)         (None, 3072)              0         \n",
      "_________________________________________________________________\n",
      "hidden_layer1 (Dense)        (None, 1024)              3146752   \n",
      "_________________________________________________________________\n",
      "hidden_layer2 (Dense)        (None, 512)               524800    \n",
      "_________________________________________________________________\n",
      "hidden_layer3 (Dense)        (None, 256)               131328    \n",
      "_________________________________________________________________\n",
      "hidden_layer4 (Dense)        (None, 128)               32896     \n",
      "_________________________________________________________________\n",
      "hidden_layer5 (Dense)        (None, 64)                8256      \n",
      "_________________________________________________________________\n",
      "hidden_layer6 (Dense)        (None, 32)                2080      \n",
      "_________________________________________________________________\n",
      "output (Dense)               (None, 10)                330       \n",
      "=================================================================\n",
      "Total params: 3,846,442\n",
      "Trainable params: 3,846,442\n",
      "Non-trainable params: 0\n",
      "_________________________________________________________________\n"
     ]
    }
   ],
   "source": [
    "\"\"\"Code Here\n",
    "建立你的神經網路\n",
    "\"\"\"\n",
    "def build_mlp(input_shape, output_units=10, num_neurons=[1024, 512, 256, 128, 64, 32]):\n",
    "    input_layer = keras.layers.Input(input_shape)\n",
    "    \n",
    "    for i, n_units in enumerate(num_neurons):\n",
    "        if i == 0:\n",
    "            x = keras.layers.Dense(units=n_units, activation=\"relu\", name=\"hidden_layer\"+str(i+1))(input_layer)\n",
    "        else:\n",
    "            x = keras.layers.Dense(units=n_units, activation=\"relu\", name=\"hidden_layer\"+str(i+1))(x)\n",
    "    \n",
    "    out = keras.layers.Dense(units=output_units, activation=\"softmax\", name=\"output\")(x)\n",
    "    \n",
    "    model = keras.models.Model(inputs=[input_layer], outputs=[out])\n",
    "    return model\n",
    "model = build_mlp(input_shape=x_train.shape[1:])\n",
    "model.summary()"
   ]
  },
  {
   "cell_type": "code",
   "execution_count": 8,
   "metadata": {},
   "outputs": [],
   "source": [
    "## 超參數設定\n",
    "LEARNING_RATE = 0.001\n",
    "EPOCHS = 100\n",
    "BATCH_SIZE = 256"
   ]
  },
  {
   "cell_type": "code",
   "execution_count": 9,
   "metadata": {},
   "outputs": [],
   "source": [
    "optimizer = keras.optimizers.Adam(lr=LEARNING_RATE)\n",
    "model.compile(loss=\"categorical_crossentropy\", metrics=[\"accuracy\"], optimizer=optimizer)"
   ]
  },
  {
   "cell_type": "code",
   "execution_count": 10,
   "metadata": {},
   "outputs": [
    {
     "name": "stdout",
     "output_type": "stream",
     "text": [
      "WARNING:tensorflow:From C:\\Users\\user\\Anaconda3\\envs\\testAI\\lib\\site-packages\\tensorflow\\python\\ops\\math_ops.py:3066: to_int32 (from tensorflow.python.ops.math_ops) is deprecated and will be removed in a future version.\n",
      "Instructions for updating:\n",
      "Use tf.cast instead.\n",
      "Train on 50000 samples, validate on 10000 samples\n",
      "Epoch 1/100\n",
      "50000/50000 [==============================] - 27s 535us/step - loss: 1.9919 - acc: 0.2639 - val_loss: 1.8855 - val_acc: 0.3167\n",
      "Epoch 2/100\n",
      "50000/50000 [==============================] - 24s 488us/step - loss: 1.7489 - acc: 0.3654 - val_loss: 1.6727 - val_acc: 0.3892\n",
      "Epoch 3/100\n",
      "50000/50000 [==============================] - 24s 486us/step - loss: 1.6619 - acc: 0.4038 - val_loss: 1.6397 - val_acc: 0.4092\n",
      "Epoch 4/100\n",
      "50000/50000 [==============================] - 24s 485us/step - loss: 1.6013 - acc: 0.4239 - val_loss: 1.5553 - val_acc: 0.4481\n",
      "Epoch 5/100\n",
      "50000/50000 [==============================] - 24s 487us/step - loss: 1.5410 - acc: 0.4476 - val_loss: 1.5615 - val_acc: 0.4330\n",
      "Epoch 6/100\n",
      "50000/50000 [==============================] - 24s 485us/step - loss: 1.4980 - acc: 0.4629 - val_loss: 1.5798 - val_acc: 0.4338\n",
      "Epoch 7/100\n",
      "50000/50000 [==============================] - 24s 485us/step - loss: 1.4498 - acc: 0.4804 - val_loss: 1.4546 - val_acc: 0.4877\n",
      "Epoch 8/100\n",
      "50000/50000 [==============================] - 24s 481us/step - loss: 1.4231 - acc: 0.4901 - val_loss: 1.4542 - val_acc: 0.4831\n",
      "Epoch 9/100\n",
      "50000/50000 [==============================] - 24s 482us/step - loss: 1.3927 - acc: 0.5007 - val_loss: 1.4503 - val_acc: 0.4896\n",
      "Epoch 10/100\n",
      "50000/50000 [==============================] - 24s 482us/step - loss: 1.3598 - acc: 0.5123 - val_loss: 1.4289 - val_acc: 0.4906\n",
      "Epoch 11/100\n",
      "50000/50000 [==============================] - 24s 480us/step - loss: 1.3246 - acc: 0.5277 - val_loss: 1.4526 - val_acc: 0.4858\n",
      "Epoch 12/100\n",
      "50000/50000 [==============================] - 25s 495us/step - loss: 1.3019 - acc: 0.5348 - val_loss: 1.3910 - val_acc: 0.5053\n",
      "Epoch 13/100\n",
      "50000/50000 [==============================] - 24s 475us/step - loss: 1.2838 - acc: 0.5411 - val_loss: 1.4064 - val_acc: 0.4994\n",
      "Epoch 14/100\n",
      "50000/50000 [==============================] - 24s 472us/step - loss: 1.2589 - acc: 0.5522 - val_loss: 1.3855 - val_acc: 0.5064\n",
      "Epoch 15/100\n",
      "50000/50000 [==============================] - 24s 474us/step - loss: 1.2287 - acc: 0.5598 - val_loss: 1.3883 - val_acc: 0.5141\n",
      "Epoch 16/100\n",
      "50000/50000 [==============================] - 24s 473us/step - loss: 1.1953 - acc: 0.5727 - val_loss: 1.3935 - val_acc: 0.5143\n",
      "Epoch 17/100\n",
      "50000/50000 [==============================] - 24s 473us/step - loss: 1.1787 - acc: 0.5788 - val_loss: 1.3622 - val_acc: 0.5270\n",
      "Epoch 18/100\n",
      "50000/50000 [==============================] - 24s 479us/step - loss: 1.1465 - acc: 0.5913 - val_loss: 1.3772 - val_acc: 0.5200\n",
      "Epoch 19/100\n",
      "50000/50000 [==============================] - 24s 483us/step - loss: 1.1184 - acc: 0.5987 - val_loss: 1.3602 - val_acc: 0.5234\n",
      "Epoch 20/100\n",
      "50000/50000 [==============================] - 25s 492us/step - loss: 1.1030 - acc: 0.6053 - val_loss: 1.3929 - val_acc: 0.5207\n",
      "Epoch 21/100\n",
      "50000/50000 [==============================] - 25s 502us/step - loss: 1.0721 - acc: 0.6160 - val_loss: 1.3773 - val_acc: 0.5273\n",
      "Epoch 22/100\n",
      "50000/50000 [==============================] - 24s 474us/step - loss: 1.0338 - acc: 0.6292 - val_loss: 1.4053 - val_acc: 0.5097\n",
      "Epoch 23/100\n",
      "50000/50000 [==============================] - 25s 500us/step - loss: 1.0280 - acc: 0.6306 - val_loss: 1.3793 - val_acc: 0.5289\n",
      "Epoch 24/100\n",
      "50000/50000 [==============================] - 25s 499us/step - loss: 0.9907 - acc: 0.6459 - val_loss: 1.3946 - val_acc: 0.5337\n",
      "Epoch 25/100\n",
      "50000/50000 [==============================] - 25s 499us/step - loss: 0.9546 - acc: 0.6596 - val_loss: 1.4394 - val_acc: 0.5302\n",
      "Epoch 26/100\n",
      "50000/50000 [==============================] - 25s 500us/step - loss: 0.9526 - acc: 0.6562 - val_loss: 1.4108 - val_acc: 0.5301\n",
      "Epoch 27/100\n",
      "50000/50000 [==============================] - 24s 476us/step - loss: 0.9221 - acc: 0.6698 - val_loss: 1.4961 - val_acc: 0.5113\n",
      "Epoch 28/100\n",
      "50000/50000 [==============================] - 23s 463us/step - loss: 0.8864 - acc: 0.6835 - val_loss: 1.5085 - val_acc: 0.5117\n",
      "Epoch 29/100\n",
      "50000/50000 [==============================] - 23s 462us/step - loss: 0.8637 - acc: 0.6896 - val_loss: 1.4863 - val_acc: 0.5199\n",
      "Epoch 30/100\n",
      "50000/50000 [==============================] - 23s 461us/step - loss: 0.8416 - acc: 0.6989 - val_loss: 1.5212 - val_acc: 0.5244\n",
      "Epoch 31/100\n",
      "50000/50000 [==============================] - 23s 467us/step - loss: 0.8070 - acc: 0.7110 - val_loss: 1.6033 - val_acc: 0.5172\n",
      "Epoch 32/100\n",
      "50000/50000 [==============================] - 23s 463us/step - loss: 0.8011 - acc: 0.7151 - val_loss: 1.5659 - val_acc: 0.5199\n",
      "Epoch 33/100\n",
      "50000/50000 [==============================] - 23s 460us/step - loss: 0.7626 - acc: 0.7275 - val_loss: 1.5784 - val_acc: 0.5198\n",
      "Epoch 34/100\n",
      "50000/50000 [==============================] - 23s 465us/step - loss: 0.7464 - acc: 0.7325 - val_loss: 1.6546 - val_acc: 0.5198\n",
      "Epoch 35/100\n",
      "50000/50000 [==============================] - 23s 466us/step - loss: 0.7140 - acc: 0.7420 - val_loss: 1.6324 - val_acc: 0.5258\n",
      "Epoch 36/100\n",
      "50000/50000 [==============================] - 23s 465us/step - loss: 0.6977 - acc: 0.7476 - val_loss: 1.7490 - val_acc: 0.5170\n",
      "Epoch 37/100\n",
      "50000/50000 [==============================] - 23s 466us/step - loss: 0.6682 - acc: 0.7611 - val_loss: 1.7059 - val_acc: 0.5217\n",
      "Epoch 38/100\n",
      "50000/50000 [==============================] - 23s 464us/step - loss: 0.6661 - acc: 0.7596 - val_loss: 1.7202 - val_acc: 0.5346\n",
      "Epoch 39/100\n",
      "50000/50000 [==============================] - 23s 464us/step - loss: 0.6252 - acc: 0.7757 - val_loss: 1.9046 - val_acc: 0.5056\n",
      "Epoch 40/100\n",
      "50000/50000 [==============================] - 23s 464us/step - loss: 0.6255 - acc: 0.7758 - val_loss: 1.7619 - val_acc: 0.5186\n",
      "Epoch 41/100\n",
      "50000/50000 [==============================] - 23s 461us/step - loss: 0.5958 - acc: 0.7870 - val_loss: 1.8183 - val_acc: 0.5189\n",
      "Epoch 42/100\n",
      "50000/50000 [==============================] - 23s 464us/step - loss: 0.5728 - acc: 0.7954 - val_loss: 1.9305 - val_acc: 0.5173\n",
      "Epoch 43/100\n",
      "50000/50000 [==============================] - 23s 462us/step - loss: 0.5634 - acc: 0.7980 - val_loss: 2.0412 - val_acc: 0.5023\n",
      "Epoch 44/100\n",
      "50000/50000 [==============================] - 23s 462us/step - loss: 0.5421 - acc: 0.8051 - val_loss: 2.0486 - val_acc: 0.5124\n",
      "Epoch 45/100\n",
      "50000/50000 [==============================] - 23s 465us/step - loss: 0.5156 - acc: 0.8194 - val_loss: 1.9817 - val_acc: 0.5152\n",
      "Epoch 46/100\n",
      "50000/50000 [==============================] - 23s 462us/step - loss: 0.4992 - acc: 0.8218 - val_loss: 2.0393 - val_acc: 0.5159\n",
      "Epoch 47/100\n",
      "50000/50000 [==============================] - 23s 460us/step - loss: 0.4993 - acc: 0.8205 - val_loss: 2.1203 - val_acc: 0.5128\n",
      "Epoch 48/100\n",
      "50000/50000 [==============================] - 23s 459us/step - loss: 0.4637 - acc: 0.8345 - val_loss: 2.1853 - val_acc: 0.5103\n",
      "Epoch 49/100\n",
      "50000/50000 [==============================] - 23s 460us/step - loss: 0.4585 - acc: 0.8365 - val_loss: 2.2272 - val_acc: 0.5113\n",
      "Epoch 50/100\n",
      "50000/50000 [==============================] - 23s 460us/step - loss: 0.4494 - acc: 0.8404 - val_loss: 2.1983 - val_acc: 0.5090\n",
      "Epoch 51/100\n",
      "50000/50000 [==============================] - 23s 458us/step - loss: 0.4355 - acc: 0.8444 - val_loss: 2.3818 - val_acc: 0.5055\n",
      "Epoch 52/100\n",
      "50000/50000 [==============================] - 23s 458us/step - loss: 0.4198 - acc: 0.8508 - val_loss: 2.3984 - val_acc: 0.5078\n",
      "Epoch 53/100\n",
      "50000/50000 [==============================] - 23s 459us/step - loss: 0.4198 - acc: 0.8491 - val_loss: 2.3988 - val_acc: 0.5060\n",
      "Epoch 54/100\n",
      "50000/50000 [==============================] - 23s 464us/step - loss: 0.3964 - acc: 0.8587 - val_loss: 2.4191 - val_acc: 0.5067\n",
      "Epoch 55/100\n",
      "50000/50000 [==============================] - 23s 466us/step - loss: 0.3890 - acc: 0.8593 - val_loss: 2.5567 - val_acc: 0.5060\n",
      "Epoch 56/100\n",
      "50000/50000 [==============================] - 23s 466us/step - loss: 0.3960 - acc: 0.8578 - val_loss: 2.4101 - val_acc: 0.5099\n"
     ]
    },
    {
     "name": "stdout",
     "output_type": "stream",
     "text": [
      "Epoch 57/100\n",
      "50000/50000 [==============================] - 25s 493us/step - loss: 0.3814 - acc: 0.8633 - val_loss: 2.5112 - val_acc: 0.5086\n",
      "Epoch 58/100\n",
      "50000/50000 [==============================] - 24s 489us/step - loss: 0.3439 - acc: 0.8779 - val_loss: 2.5983 - val_acc: 0.5080\n",
      "Epoch 59/100\n",
      "50000/50000 [==============================] - 24s 488us/step - loss: 0.3633 - acc: 0.8719 - val_loss: 2.6314 - val_acc: 0.5064\n",
      "Epoch 60/100\n",
      "50000/50000 [==============================] - 24s 487us/step - loss: 0.3576 - acc: 0.8719 - val_loss: 2.5886 - val_acc: 0.5127\n",
      "Epoch 61/100\n",
      "50000/50000 [==============================] - 24s 488us/step - loss: 0.3558 - acc: 0.8743 - val_loss: 2.6791 - val_acc: 0.5016\n",
      "Epoch 62/100\n",
      "50000/50000 [==============================] - 24s 486us/step - loss: 0.3572 - acc: 0.8733 - val_loss: 2.5737 - val_acc: 0.5063\n",
      "Epoch 63/100\n",
      "50000/50000 [==============================] - 24s 487us/step - loss: 0.3246 - acc: 0.8847 - val_loss: 2.7155 - val_acc: 0.5088\n",
      "Epoch 64/100\n",
      "50000/50000 [==============================] - 24s 488us/step - loss: 0.3086 - acc: 0.8906 - val_loss: 2.7575 - val_acc: 0.5132\n",
      "Epoch 65/100\n",
      "50000/50000 [==============================] - 25s 492us/step - loss: 0.3283 - acc: 0.8842 - val_loss: 2.7087 - val_acc: 0.5049\n",
      "Epoch 66/100\n",
      "50000/50000 [==============================] - 24s 486us/step - loss: 0.3030 - acc: 0.8931 - val_loss: 2.8614 - val_acc: 0.5012\n",
      "Epoch 67/100\n",
      "50000/50000 [==============================] - 24s 486us/step - loss: 0.2970 - acc: 0.8946 - val_loss: 2.8493 - val_acc: 0.5017\n",
      "Epoch 68/100\n",
      "50000/50000 [==============================] - 24s 488us/step - loss: 0.3041 - acc: 0.8916 - val_loss: 2.8374 - val_acc: 0.5132\n",
      "Epoch 69/100\n",
      "50000/50000 [==============================] - 24s 489us/step - loss: 0.2959 - acc: 0.8952 - val_loss: 2.8867 - val_acc: 0.4986\n",
      "Epoch 70/100\n",
      "50000/50000 [==============================] - 24s 489us/step - loss: 0.2627 - acc: 0.9078 - val_loss: 3.0515 - val_acc: 0.5030\n",
      "Epoch 71/100\n",
      "50000/50000 [==============================] - 24s 486us/step - loss: 0.2848 - acc: 0.8983 - val_loss: 3.0083 - val_acc: 0.4912\n",
      "Epoch 72/100\n",
      "50000/50000 [==============================] - 24s 481us/step - loss: 0.2905 - acc: 0.8986 - val_loss: 2.9828 - val_acc: 0.5002\n",
      "Epoch 73/100\n",
      "50000/50000 [==============================] - 24s 482us/step - loss: 0.2716 - acc: 0.9049 - val_loss: 2.9935 - val_acc: 0.5090\n",
      "Epoch 74/100\n",
      "50000/50000 [==============================] - 24s 479us/step - loss: 0.2537 - acc: 0.9104 - val_loss: 3.0760 - val_acc: 0.5092\n",
      "Epoch 75/100\n",
      "50000/50000 [==============================] - 24s 485us/step - loss: 0.2669 - acc: 0.9052 - val_loss: 3.1361 - val_acc: 0.5070\n",
      "Epoch 76/100\n",
      "50000/50000 [==============================] - 24s 482us/step - loss: 0.2454 - acc: 0.9127 - val_loss: 3.1577 - val_acc: 0.5050\n",
      "Epoch 77/100\n",
      "50000/50000 [==============================] - 24s 477us/step - loss: 0.2550 - acc: 0.9097 - val_loss: 3.0103 - val_acc: 0.5037\n",
      "Epoch 78/100\n",
      "50000/50000 [==============================] - 25s 508us/step - loss: 0.2541 - acc: 0.9102 - val_loss: 3.1105 - val_acc: 0.5116\n",
      "Epoch 79/100\n",
      "50000/50000 [==============================] - 25s 508us/step - loss: 0.2563 - acc: 0.9103 - val_loss: 3.0697 - val_acc: 0.5044\n",
      "Epoch 80/100\n",
      "50000/50000 [==============================] - 29s 586us/step - loss: 0.2373 - acc: 0.9162 - val_loss: 3.2575 - val_acc: 0.5003\n",
      "Epoch 81/100\n",
      "50000/50000 [==============================] - 24s 487us/step - loss: 0.2026 - acc: 0.9292 - val_loss: 3.3651 - val_acc: 0.5000\n",
      "Epoch 82/100\n",
      "50000/50000 [==============================] - 24s 477us/step - loss: 0.2545 - acc: 0.9101 - val_loss: 3.2041 - val_acc: 0.5078\n",
      "Epoch 83/100\n",
      "50000/50000 [==============================] - 24s 480us/step - loss: 0.2100 - acc: 0.9263 - val_loss: 3.3877 - val_acc: 0.4855\n",
      "Epoch 84/100\n",
      "50000/50000 [==============================] - 24s 485us/step - loss: 0.2415 - acc: 0.9161 - val_loss: 3.2933 - val_acc: 0.5052\n",
      "Epoch 85/100\n",
      "50000/50000 [==============================] - 25s 501us/step - loss: 0.2107 - acc: 0.9275 - val_loss: 3.2985 - val_acc: 0.5078\n",
      "Epoch 86/100\n",
      "50000/50000 [==============================] - 25s 497us/step - loss: 0.2121 - acc: 0.9259 - val_loss: 3.3040 - val_acc: 0.5023\n",
      "Epoch 87/100\n",
      "50000/50000 [==============================] - 25s 493us/step - loss: 0.2289 - acc: 0.9203 - val_loss: 3.3756 - val_acc: 0.5036\n",
      "Epoch 88/100\n",
      "50000/50000 [==============================] - 25s 503us/step - loss: 0.2161 - acc: 0.9247 - val_loss: 3.2438 - val_acc: 0.5017\n",
      "Epoch 89/100\n",
      "50000/50000 [==============================] - 24s 481us/step - loss: 0.2034 - acc: 0.9294 - val_loss: 3.3559 - val_acc: 0.5117\n",
      "Epoch 90/100\n",
      "50000/50000 [==============================] - 24s 471us/step - loss: 0.2087 - acc: 0.9269 - val_loss: 3.4299 - val_acc: 0.5068\n",
      "Epoch 91/100\n",
      "50000/50000 [==============================] - 23s 469us/step - loss: 0.2175 - acc: 0.9243 - val_loss: 3.2841 - val_acc: 0.4984\n",
      "Epoch 92/100\n",
      "50000/50000 [==============================] - 24s 472us/step - loss: 0.2055 - acc: 0.9290 - val_loss: 3.3361 - val_acc: 0.5025\n",
      "Epoch 93/100\n",
      "50000/50000 [==============================] - 23s 468us/step - loss: 0.1939 - acc: 0.9321 - val_loss: 3.3470 - val_acc: 0.5086\n",
      "Epoch 94/100\n",
      "50000/50000 [==============================] - 25s 499us/step - loss: 0.1910 - acc: 0.9334 - val_loss: 3.4924 - val_acc: 0.4914\n",
      "Epoch 95/100\n",
      "50000/50000 [==============================] - 27s 535us/step - loss: 0.2159 - acc: 0.9256 - val_loss: 3.4022 - val_acc: 0.5017\n",
      "Epoch 96/100\n",
      "50000/50000 [==============================] - 27s 546us/step - loss: 0.2072 - acc: 0.9276 - val_loss: 3.4400 - val_acc: 0.5079\n",
      "Epoch 97/100\n",
      "50000/50000 [==============================] - 28s 552us/step - loss: 0.1610 - acc: 0.9435 - val_loss: 3.4956 - val_acc: 0.5055\n",
      "Epoch 98/100\n",
      "50000/50000 [==============================] - 23s 466us/step - loss: 0.2340 - acc: 0.9191 - val_loss: 3.4705 - val_acc: 0.4894\n",
      "Epoch 99/100\n",
      "50000/50000 [==============================] - 23s 469us/step - loss: 0.1993 - acc: 0.9309 - val_loss: 3.5737 - val_acc: 0.4969\n",
      "Epoch 100/100\n",
      "50000/50000 [==============================] - 23s 465us/step - loss: 0.1484 - acc: 0.9480 - val_loss: 3.6259 - val_acc: 0.5056\n"
     ]
    },
    {
     "data": {
      "text/plain": [
       "<keras.callbacks.History at 0x27c6e6e5080>"
      ]
     },
     "execution_count": 10,
     "metadata": {},
     "output_type": "execute_result"
    }
   ],
   "source": [
    "model.fit(x_train, y_train, \n",
    "          epochs=EPOCHS, \n",
    "          batch_size=BATCH_SIZE, \n",
    "          validation_data=(x_test, y_test), \n",
    "          shuffle=True)"
   ]
  },
  {
   "cell_type": "code",
   "execution_count": 12,
   "metadata": {},
   "outputs": [
    {
     "data": {
      "image/png": "[encoded data removed]",
      "text/plain": [
       "<Figure size 432x288 with 1 Axes>"
      ]
     },
     "metadata": {
      "needs_background": "light"
     },
     "output_type": "display_data"
    },
    {
     "data": {
      "image/png": "[encoded data removed]",
      "text/plain": [
       "<Figure size 432x288 with 1 Axes>"
      ]
     },
     "metadata": {
      "needs_background": "light"
     },
     "output_type": "display_data"
    }
   ],
   "source": [
    "import matplotlib.pyplot as plt\n",
    "\n",
    "\n",
    "train_loss = model.history.history[\"loss\"]\n",
    "valid_loss = model.history.history[\"val_loss\"]\n",
    "\n",
    "train_acc = model.history.history[\"acc\"]\n",
    "valid_acc = model.history.history[\"val_acc\"]\n",
    "\n",
    "plt.plot(range(len(train_loss)), train_loss, label=\"train loss\")\n",
    "plt.plot(range(len(valid_loss)), valid_loss, label=\"valid loss\")\n",
    "plt.legend()\n",
    "plt.title(\"Loss\")\n",
    "plt.show()\n",
    "\n",
    "plt.plot(range(len(train_acc)), train_acc, label=\"train accuracy\")\n",
    "plt.plot(range(len(valid_acc)), valid_acc, label=\"valid accuracy\")\n",
    "plt.legend()\n",
    "plt.title(\"Accuracy\")\n",
    "plt.show()"
   ]
  }
 ],
 "metadata": {
  "kernelspec": {
   "display_name": "Python 3",
   "language": "python",
   "name": "python3"
  },
  "language_info": {
   "codemirror_mode": {
    "name": "ipython",
    "version": 3
   },
   "file_extension": ".py",
   "mimetype": "text/x-python",
   "name": "python",
   "nbconvert_exporter": "python",
   "pygments_lexer": "ipython3",
   "version": "3.6.8"
  }
 },
 "nbformat": 4,
 "nbformat_minor": 2
}
