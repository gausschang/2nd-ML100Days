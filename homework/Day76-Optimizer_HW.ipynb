{
 "cells": [
  {
   "cell_type": "markdown",
   "metadata": {},
   "source": [
    "\n",
    "# 作業: \n",
    "    \n",
    "    (1)以, Adam, 為例, 調整 batch_size, epoch , 觀察accurancy, loss 的變化\n",
    "    \n",
    "    (2)以同一模型, 分別驗證 SGD, Adam, Rmsprop 的 accurancy"
   ]
  },
  {
   "cell_type": "code",
   "execution_count": 1,
   "metadata": {},
   "outputs": [
    {
     "name": "stderr",
     "output_type": "stream",
     "text": [
      "Using TensorFlow backend.\n"
     ]
    }
   ],
   "source": [
    "import keras\n",
    "#from keras.datasets import cifar10\n",
    "from keras.datasets import mnist \n",
    "from keras.preprocessing.image import ImageDataGenerator\n",
    "from keras.models import Sequential, load_model\n",
    "from keras.layers import Dense, Dropout, Activation, Flatten\n",
    "from keras.layers import Conv2D, MaxPooling2D\n",
    "from keras import optimizers\n",
    "from keras.callbacks import EarlyStopping, ModelCheckpoint\n",
    "import numpy \n"
   ]
  },
  {
   "cell_type": "code",
   "execution_count": 2,
   "metadata": {},
   "outputs": [
    {
     "name": "stdout",
     "output_type": "stream",
     "text": [
      "WARNING:tensorflow:From C:\\Users\\user\\Anaconda3\\envs\\testAI\\lib\\site-packages\\tensorflow\\python\\framework\\op_def_library.py:263: colocate_with (from tensorflow.python.framework.ops) is deprecated and will be removed in a future version.\n",
      "Instructions for updating:\n",
      "Colocations handled automatically by placer.\n"
     ]
    }
   ],
   "source": [
    "#    第一步：選擇模型, 順序模型是多個網絡層的線性堆疊\n",
    " \n",
    "model = Sequential()\n",
    "\n",
    "#   第二步：構建網絡層\n",
    " \n",
    "model.add(Dense( 500,input_shape=(784,))) # 輸入層，28*28=784   \n",
    "model.add(Activation('relu')) # 激活函數是relu   \n",
    "\n",
    "model.add(Dense( 500)) # 隱藏層節點500個   \n",
    "model.add(Activation('relu'))  \n",
    "\n",
    "model.add(Dense( 500)) # 隱藏層節點500個   \n",
    "model.add(Activation('relu'))  \n",
    "\n",
    "model.add(Dense( 500)) # 隱藏層節點500個   \n",
    "model.add(Activation('relu'))  \n",
    "\n",
    "model.add(Dense( 10)) # 輸出結果是10個類別，所以維度是10   \n",
    "model.add(Activation('softmax')) # 最後一層用softmax作為激活函數"
   ]
  },
  {
   "cell_type": "code",
   "execution_count": 3,
   "metadata": {},
   "outputs": [
    {
     "name": "stdout",
     "output_type": "stream",
     "text": [
      "Total Parameters：1149010\n"
     ]
    }
   ],
   "source": [
    "# 模型建立完成後，統計參數總量\n",
    "print(\"Total Parameters：%d\" % model.count_params())"
   ]
  },
  {
   "cell_type": "code",
   "execution_count": 4,
   "metadata": {},
   "outputs": [
    {
     "name": "stdout",
     "output_type": "stream",
     "text": [
      "_________________________________________________________________\n",
      "Layer (type)                 Output Shape              Param #   \n",
      "=================================================================\n",
      "dense_1 (Dense)              (None, 500)               392500    \n",
      "_________________________________________________________________\n",
      "activation_1 (Activation)    (None, 500)               0         \n",
      "_________________________________________________________________\n",
      "dense_2 (Dense)              (None, 500)               250500    \n",
      "_________________________________________________________________\n",
      "activation_2 (Activation)    (None, 500)               0         \n",
      "_________________________________________________________________\n",
      "dense_3 (Dense)              (None, 500)               250500    \n",
      "_________________________________________________________________\n",
      "activation_3 (Activation)    (None, 500)               0         \n",
      "_________________________________________________________________\n",
      "dense_4 (Dense)              (None, 500)               250500    \n",
      "_________________________________________________________________\n",
      "activation_4 (Activation)    (None, 500)               0         \n",
      "_________________________________________________________________\n",
      "dense_5 (Dense)              (None, 10)                5010      \n",
      "_________________________________________________________________\n",
      "activation_5 (Activation)    (None, 10)                0         \n",
      "=================================================================\n",
      "Total params: 1,149,010\n",
      "Trainable params: 1,149,010\n",
      "Non-trainable params: 0\n",
      "_________________________________________________________________\n"
     ]
    }
   ],
   "source": [
    "# 輸出模型摘要資訊\n",
    "model.summary()"
   ]
  },
  {
   "cell_type": "code",
   "execution_count": null,
   "metadata": {},
   "outputs": [],
   "source": [
    " '''\n",
    " SGD(隨機梯度下降) - Arguments\n",
    "lr: float >= 0. Learning rate.\n",
    "momentum: float >= 0. Parameter that accelerates SGD in the relevant direction and dampens oscillations.\n",
    "decay: float >= 0. Learning rate decay over each update.\n",
    "nesterov: boolean. Whether to apply Nesterov momentum.\n",
    "'''\n",
    "\n",
    "'''\n",
    "RMSprop- Arguments\n",
    "lr: float >= 0. Learning rate.\n",
    "rho: float >= 0.\n",
    "epsilon: float >= 0. Fuzz factor. If None, defaults to K.epsilon().\n",
    "decay: float >= 0. Learning rate decay over each update.\n",
    "'''\n"
   ]
  },
  {
   "cell_type": "code",
   "execution_count": 7,
   "metadata": {},
   "outputs": [],
   "source": [
    "# 第三步：編譯, \n",
    "def train(opt):\n",
    "    model.compile(optimizer = opt, loss = 'binary_crossentropy', metrics = ['accuracy'])\n",
    "\n",
    "#  第四步：資料分割\n",
    "# 使用Keras自帶的mnist工具讀取數據（第一次需要聯網）\n",
    "    (X_train, y_train), (X_test, y_test) = mnist.load_data() \n",
    "\n",
    "# 由於mist的輸入數據維度是(num, 28 , 28)，這裡需要把後面的維度直接拼起來變成784維   \n",
    "    X_train = X_train.reshape(X_train.shape[0], X_train.shape[1] * X_train.shape[2 ])\n",
    "    X_test = X_test.reshape(X_test.shape[0], X_test.shape[1] * X_test.shape[2 ])  \n",
    "    Y_train = (numpy.arange(10) == y_train[:, None]).astype(int)\n",
    "    Y_test = (numpy.arange(10) == y_test[:, None]).astype(int)\n",
    "\n",
    "\n",
    "\n",
    "    '''\n",
    "   宣告並設定\n",
    "   batch_size：對總的樣本數進行分組，每組包含的樣本數量\n",
    "   epochs ：訓練次數\n",
    "   \n",
    "    ''' \n",
    "    batch_size = 512\n",
    "    epochs = 15\n",
    "\n",
    "# 第五步：訓練, 修正 model 參數\n",
    "#Blas GEMM launch failed , 避免動態分配GPU / CPU, 出現問題\n",
    "    import tensorflow as tf\n",
    "    gpu_options = tf.GPUOptions(per_process_gpu_memory_fraction=0.333)\n",
    "    sess = tf.Session(config=tf.ConfigProto(gpu_options=gpu_options))\n",
    "\n",
    "\n",
    "    history = model.fit(X_train,Y_train,batch_size = batch_size, epochs=epochs, shuffle=True,verbose=2,validation_split=0.3 )\n",
    "\n",
    "#    第六步：輸出\n",
    " \n",
    "    print ( \" test set \" )\n",
    "    scores = model.evaluate(X_test,Y_test,batch_size=200,verbose= 0)\n",
    "    print ( \"\" )\n",
    "#print ( \" The test loss is %f \" % scores)\n",
    "    print ( \" The test loss is %f \", scores)\n",
    "    result = model.predict(X_test,batch_size=200,verbose= 0)\n",
    "\n",
    "    result_max = numpy.argmax(result, axis = 1 )\n",
    "    test_max = numpy.argmax(Y_test, axis = 1 )\n",
    "\n",
    "    result_bool = numpy.equal(result_max, test_max)\n",
    "    true_num = numpy.sum(result_bool)\n",
    "    print ( \"\" )\n",
    "    print ( \" The accuracy of the model is %f \" % (true_num/len(result_bool)))\n",
    "\n",
    "    import matplotlib.pyplot as plt\n",
    "\n",
    "    %matplotlib inline\n",
    "\n",
    "# history = model.fit(x, y, validation_split=0.25, epochs=50, batch_size=16, verbose=1)\n",
    "\n",
    "# Plot training & validation accuracy values\n",
    "    plt.plot(history.history['acc'])\n",
    "    plt.plot(history.history['val_acc'])\n",
    "    plt.title('Model accuracy')\n",
    "    plt.ylabel('Accuracy')\n",
    "    plt.xlabel('Epoch')\n",
    "    plt.legend(['Train', 'Test'], loc='upper left')\n",
    "    plt.show()\n",
    "\n",
    "# Plot training & validation loss values\n",
    "    plt.plot(history.history['loss'])\n",
    "    plt.plot(history.history['val_loss'])\n",
    "    plt.title('Model loss')\n",
    "    plt.ylabel('Loss')\n",
    "    plt.xlabel('Epoch')\n",
    "    plt.legend(['Train', 'Test'], loc='upper left')\n",
    "    plt.show()"
   ]
  },
  {
   "cell_type": "code",
   "execution_count": 8,
   "metadata": {},
   "outputs": [
    {
     "name": "stdout",
     "output_type": "stream",
     "text": [
      "WARNING:tensorflow:From C:\\Users\\user\\Anaconda3\\envs\\testAI\\lib\\site-packages\\tensorflow\\python\\ops\\math_ops.py:3066: to_int32 (from tensorflow.python.ops.math_ops) is deprecated and will be removed in a future version.\n",
      "Instructions for updating:\n",
      "Use tf.cast instead.\n",
      "Train on 42000 samples, validate on 18000 samples\n",
      "Epoch 1/15\n",
      " - 7s - loss: 2.6207 - acc: 0.8353 - val_loss: 2.6183 - val_acc: 0.8365\n",
      "Epoch 2/15\n",
      " - 5s - loss: 2.6145 - acc: 0.8367 - val_loss: 2.5865 - val_acc: 0.8385\n",
      "Epoch 3/15\n",
      " - 5s - loss: 2.6043 - acc: 0.8375 - val_loss: 2.6015 - val_acc: 0.8376\n",
      "Epoch 4/15\n",
      " - 5s - loss: 2.5980 - acc: 0.8379 - val_loss: 2.5932 - val_acc: 0.8382\n",
      "Epoch 5/15\n",
      " - 5s - loss: 2.5976 - acc: 0.8379 - val_loss: 2.6009 - val_acc: 0.8377\n",
      "Epoch 6/15\n",
      " - 5s - loss: 2.7281 - acc: 0.8297 - val_loss: 2.8888 - val_acc: 0.8198\n",
      "Epoch 7/15\n",
      " - 5s - loss: 2.8897 - acc: 0.8197 - val_loss: 2.8890 - val_acc: 0.8198\n",
      "Epoch 8/15\n",
      " - 5s - loss: 2.8898 - acc: 0.8197 - val_loss: 2.8890 - val_acc: 0.8198\n",
      "Epoch 9/15\n",
      " - 5s - loss: 2.8898 - acc: 0.8197 - val_loss: 2.8890 - val_acc: 0.8198\n",
      "Epoch 10/15\n",
      " - 5s - loss: 2.8898 - acc: 0.8197 - val_loss: 2.8890 - val_acc: 0.8198\n",
      "Epoch 11/15\n",
      " - 5s - loss: 2.8898 - acc: 0.8197 - val_loss: 2.8890 - val_acc: 0.8198\n",
      "Epoch 12/15\n",
      " - 5s - loss: 2.8898 - acc: 0.8197 - val_loss: 2.8890 - val_acc: 0.8198\n",
      "Epoch 13/15\n",
      " - 5s - loss: 2.8898 - acc: 0.8197 - val_loss: 2.8890 - val_acc: 0.8198\n",
      "Epoch 14/15\n",
      " - 5s - loss: 2.8898 - acc: 0.8197 - val_loss: 2.8890 - val_acc: 0.8198\n",
      "Epoch 15/15\n",
      " - 5s - loss: 2.8898 - acc: 0.8197 - val_loss: 2.8890 - val_acc: 0.8198\n",
      " test set \n",
      "\n",
      " The test loss is %f  [2.891534934043884, 0.8196196520328521]\n",
      "\n",
      " The accuracy of the model is 0.098100 \n"
     ]
    },
    {
     "data": {
      "image/png": "[encoded data removed]",
      "text/plain": [
       "<Figure size 432x288 with 1 Axes>"
      ]
     },
     "metadata": {
      "needs_background": "light"
     },
     "output_type": "display_data"
    },
    {
     "data": {
      "image/png": "[encoded data removed]",
      "text/plain": [
       "<Figure size 432x288 with 1 Axes>"
      ]
     },
     "metadata": {
      "needs_background": "light"
     },
     "output_type": "display_data"
    }
   ],
   "source": [
    "train('Adam')"
   ]
  },
  {
   "cell_type": "code",
   "execution_count": 9,
   "metadata": {},
   "outputs": [
    {
     "name": "stdout",
     "output_type": "stream",
     "text": [
      "Train on 42000 samples, validate on 18000 samples\n",
      "Epoch 1/15\n",
      " - 6s - loss: 2.8898 - acc: 0.8197 - val_loss: 2.8890 - val_acc: 0.8198\n",
      "Epoch 2/15\n",
      " - 5s - loss: 2.8898 - acc: 0.8197 - val_loss: 2.8890 - val_acc: 0.8198\n",
      "Epoch 3/15\n",
      " - 5s - loss: 2.8898 - acc: 0.8197 - val_loss: 2.8890 - val_acc: 0.8198\n",
      "Epoch 4/15\n",
      " - 5s - loss: 2.8898 - acc: 0.8197 - val_loss: 2.8890 - val_acc: 0.8198\n",
      "Epoch 5/15\n",
      " - 5s - loss: 2.8898 - acc: 0.8197 - val_loss: 2.8890 - val_acc: 0.8198\n",
      "Epoch 6/15\n",
      " - 5s - loss: 2.8898 - acc: 0.8197 - val_loss: 2.8890 - val_acc: 0.8198\n",
      "Epoch 7/15\n",
      " - 5s - loss: 2.8898 - acc: 0.8197 - val_loss: 2.8890 - val_acc: 0.8198\n",
      "Epoch 8/15\n",
      " - 5s - loss: 2.8898 - acc: 0.8197 - val_loss: 2.8890 - val_acc: 0.8198\n",
      "Epoch 9/15\n",
      " - 5s - loss: 2.8898 - acc: 0.8197 - val_loss: 2.8890 - val_acc: 0.8198\n",
      "Epoch 10/15\n",
      " - 5s - loss: 2.8898 - acc: 0.8197 - val_loss: 2.8890 - val_acc: 0.8198\n",
      "Epoch 11/15\n",
      " - 5s - loss: 2.8898 - acc: 0.8197 - val_loss: 2.8890 - val_acc: 0.8198\n",
      "Epoch 12/15\n",
      " - 5s - loss: 2.8898 - acc: 0.8197 - val_loss: 2.8890 - val_acc: 0.8198\n",
      "Epoch 13/15\n",
      " - 5s - loss: 2.8898 - acc: 0.8197 - val_loss: 2.8890 - val_acc: 0.8198\n",
      "Epoch 14/15\n",
      " - 5s - loss: 2.8898 - acc: 0.8197 - val_loss: 2.8890 - val_acc: 0.8198\n",
      "Epoch 15/15\n",
      " - 5s - loss: 2.8898 - acc: 0.8197 - val_loss: 2.8890 - val_acc: 0.8198\n",
      " test set \n",
      "\n",
      " The test loss is %f  [2.891534934043884, 0.8196196520328521]\n",
      "\n",
      " The accuracy of the model is 0.098100 \n"
     ]
    },
    {
     "data": {
      "image/png": "[encoded data removed]",
      "text/plain": [
       "<Figure size 432x288 with 1 Axes>"
      ]
     },
     "metadata": {
      "needs_background": "light"
     },
     "output_type": "display_data"
    },
    {
     "data": {
      "image/png": "[encoded data removed]",
      "text/plain": [
       "<Figure size 432x288 with 1 Axes>"
      ]
     },
     "metadata": {
      "needs_background": "light"
     },
     "output_type": "display_data"
    }
   ],
   "source": [
    "train('SGD')"
   ]
  },
  {
   "cell_type": "code",
   "execution_count": 10,
   "metadata": {},
   "outputs": [
    {
     "name": "stdout",
     "output_type": "stream",
     "text": [
      "Train on 42000 samples, validate on 18000 samples\n",
      "Epoch 1/15\n",
      " - 7s - loss: 2.8898 - acc: 0.8197 - val_loss: 2.8890 - val_acc: 0.8198\n",
      "Epoch 2/15\n",
      " - 5s - loss: 2.8898 - acc: 0.8197 - val_loss: 2.8890 - val_acc: 0.8198\n",
      "Epoch 3/15\n",
      " - 5s - loss: 2.8898 - acc: 0.8197 - val_loss: 2.8890 - val_acc: 0.8198\n",
      "Epoch 4/15\n",
      " - 5s - loss: 2.8898 - acc: 0.8197 - val_loss: 2.8890 - val_acc: 0.8198\n",
      "Epoch 5/15\n",
      " - 5s - loss: 2.8898 - acc: 0.8197 - val_loss: 2.8890 - val_acc: 0.8198\n",
      "Epoch 6/15\n",
      " - 5s - loss: 2.8898 - acc: 0.8197 - val_loss: 2.8890 - val_acc: 0.8198\n",
      "Epoch 7/15\n",
      " - 5s - loss: 2.8898 - acc: 0.8197 - val_loss: 2.8890 - val_acc: 0.8198\n",
      "Epoch 8/15\n",
      " - 5s - loss: 2.8898 - acc: 0.8197 - val_loss: 2.8890 - val_acc: 0.8198\n",
      "Epoch 9/15\n",
      " - 5s - loss: 2.8898 - acc: 0.8197 - val_loss: 2.8890 - val_acc: 0.8198\n",
      "Epoch 10/15\n",
      " - 5s - loss: 2.8898 - acc: 0.8197 - val_loss: 2.8890 - val_acc: 0.8198\n",
      "Epoch 11/15\n",
      " - 5s - loss: 2.8898 - acc: 0.8197 - val_loss: 2.8890 - val_acc: 0.8198\n",
      "Epoch 12/15\n",
      " - 5s - loss: 2.8898 - acc: 0.8197 - val_loss: 2.8890 - val_acc: 0.8198\n",
      "Epoch 13/15\n",
      " - 5s - loss: 2.8898 - acc: 0.8197 - val_loss: 2.8890 - val_acc: 0.8198\n",
      "Epoch 14/15\n",
      " - 5s - loss: 2.8898 - acc: 0.8197 - val_loss: 2.8890 - val_acc: 0.8198\n",
      "Epoch 15/15\n",
      " - 5s - loss: 2.8898 - acc: 0.8197 - val_loss: 2.8890 - val_acc: 0.8198\n",
      " test set \n",
      "\n",
      " The test loss is %f  [2.891534934043884, 0.8196196520328521]\n",
      "\n",
      " The accuracy of the model is 0.098100 \n"
     ]
    },
    {
     "data": {
      "image/png": "[encoded data removed]",
      "text/plain": [
       "<Figure size 432x288 with 1 Axes>"
      ]
     },
     "metadata": {
      "needs_background": "light"
     },
     "output_type": "display_data"
    },
    {
     "data": {
      "image/png": "[encoded data removed]",
      "text/plain": [
       "<Figure size 432x288 with 1 Axes>"
      ]
     },
     "metadata": {
      "needs_background": "light"
     },
     "output_type": "display_data"
    }
   ],
   "source": [
    "train('Rmsprop')"
   ]
  },
  {
   "cell_type": "raw",
   "metadata": {},
   "source": []
  }
 ],
 "metadata": {
  "kernelspec": {
   "display_name": "Python 3",
   "language": "python",
   "name": "python3"
  },
  "language_info": {
   "codemirror_mode": {
    "name": "ipython",
    "version": 3
   },
   "file_extension": ".py",
   "mimetype": "text/x-python",
   "name": "python",
   "nbconvert_exporter": "python",
   "pygments_lexer": "ipython3",
   "version": "3.6.8"
  }
 },
 "nbformat": 4,
 "nbformat_minor": 2
}
